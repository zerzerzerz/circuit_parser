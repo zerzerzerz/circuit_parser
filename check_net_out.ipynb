{
 "cells": [
  {
   "cell_type": "code",
   "execution_count": 13,
   "metadata": {},
   "outputs": [],
   "source": [
    "import utils.utils as utils\n",
    "from config.config import CONNECTION_SEP"
   ]
  },
  {
   "attachments": {},
   "cell_type": "markdown",
   "metadata": {},
   "source": [
    "- `nc1` is net connection from `net_connections.json`\n",
    "- `nc2` is net connection from `net_delay.json`"
   ]
  },
  {
   "cell_type": "code",
   "execution_count": 14,
   "metadata": {},
   "outputs": [],
   "source": [
    "nc1 = 'res/net_connections.json'\n",
    "nc2 = 'res/net_delay.json'\n",
    "pipos = 'res/pipos.json'\n",
    "nc1 = utils.load_json(nc1)\n",
    "nc2 = set(utils.load_json(nc2).keys())\n",
    "pipos = utils.load_json(pipos)"
   ]
  },
  {
   "cell_type": "code",
   "execution_count": 15,
   "metadata": {},
   "outputs": [],
   "source": [
    "res = []\n",
    "for wire in nc1.keys():\n",
    "    driver = list(nc1[wire]['driver'])\n",
    "    sink = list(nc1[wire]['sink'])\n",
    "    assert len(driver) <= 1, f'wire = {wire}'\n",
    "    if wire in pipos[\"PI\"]:\n",
    "        driver.append(wire)\n",
    "    if wire in pipos[\"PO\"]:\n",
    "        sink.append(wire)\n",
    "    for s in sink:\n",
    "        res.append(f'{driver[0]}{CONNECTION_SEP}{s}')\n",
    "res = set(res)\n",
    "nc1 = res"
   ]
  },
  {
   "cell_type": "code",
   "execution_count": 16,
   "metadata": {},
   "outputs": [
    {
     "data": {
      "text/plain": [
       "set()"
      ]
     },
     "execution_count": 16,
     "metadata": {},
     "output_type": "execute_result"
    }
   ],
   "source": [
    "nc1.difference(nc2)"
   ]
  },
  {
   "cell_type": "code",
   "execution_count": 17,
   "metadata": {},
   "outputs": [
    {
     "data": {
      "text/plain": [
       "set()"
      ]
     },
     "execution_count": 17,
     "metadata": {},
     "output_type": "execute_result"
    }
   ],
   "source": [
    "nc2.difference(nc1)"
   ]
  }
 ],
 "metadata": {
  "kernelspec": {
   "display_name": "Python 3.8.13 ('torch')",
   "language": "python",
   "name": "python3"
  },
  "language_info": {
   "codemirror_mode": {
    "name": "ipython",
    "version": 3
   },
   "file_extension": ".py",
   "mimetype": "text/x-python",
   "name": "python",
   "nbconvert_exporter": "python",
   "pygments_lexer": "ipython3",
   "version": "3.8.13"
  },
  "orig_nbformat": 4,
  "vscode": {
   "interpreter": {
    "hash": "3854296d431348fac4977c9b40bb03107b32acdd69d3046dab9abadc62791061"
   }
  }
 },
 "nbformat": 4,
 "nbformat_minor": 2
}
