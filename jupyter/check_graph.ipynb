{
 "cells": [
  {
   "cell_type": "code",
   "execution_count": 4,
   "metadata": {},
   "outputs": [],
   "source": [
    "import os\n",
    "import sys\n",
    "os.chdir(\"../\")\n",
    "sys.path.append(os.getcwd())"
   ]
  },
  {
   "cell_type": "code",
   "execution_count": 9,
   "metadata": {},
   "outputs": [],
   "source": [
    "import torch\n",
    "import dgl\n",
    "from utils import utils\n",
    "from os.path import join"
   ]
  },
  {
   "cell_type": "code",
   "execution_count": 30,
   "metadata": {},
   "outputs": [],
   "source": [
    "# g = dgl.graph((\n",
    "#     [0,0,1,3,4,2],\n",
    "#     [1,3,4,4,2,0],\n",
    "# ))\n",
    "g = dgl.graph((\n",
    "    [0,1,2,0,3,4],\n",
    "    [1,2,0,3,4,0],\n",
    "))"
   ]
  },
  {
   "cell_type": "code",
   "execution_count": 35,
   "metadata": {},
   "outputs": [],
   "source": [
    "class FindAllLoop:\n",
    "    WHITE = 0\n",
    "    GRAY = 1\n",
    "    BLACK = 2\n",
    "    SEP = '*' * 50\n",
    "\n",
    "    def __init__(self, g:dgl.DGLGraph) -> None:\n",
    "        self.g = g\n",
    "        self.color = [FindAllLoop.WHITE] * self.g.num_nodes()\n",
    "        self.pre = [None] * self.g.num_nodes()\n",
    "        self.loops = []\n",
    "        # self.find_all_loop()\n",
    "        self.run = self.find_all_loop\n",
    "\n",
    "    def build_loop(self, start, end):\n",
    "        loop = [start]\n",
    "        cur = end\n",
    "        while cur != start:\n",
    "            loop.append(cur)\n",
    "            cur = self.pre[cur]\n",
    "        loop.append(start)\n",
    "        loop = list(reversed(loop))\n",
    "        self.loops.append(loop)\n",
    "        \n",
    "    \n",
    "    def display_color(self):\n",
    "        print(FindAllLoop.SEP)\n",
    "        for i, color in enumerate(self.color):\n",
    "            print(i, color)\n",
    "\n",
    "\n",
    "    def dfs(self, i):\n",
    "        self.color[i] = FindAllLoop.GRAY\n",
    "        for j in self.g.successors(i):\n",
    "            j = j.item()\n",
    "            if self.color[j] == FindAllLoop.WHITE:\n",
    "                self.pre[j] = i\n",
    "                self.dfs(j)\n",
    "            elif self.color[j] == FindAllLoop.GRAY:\n",
    "                self.build_loop(j,i)\n",
    "        self.color[i] = FindAllLoop.BLACK\n",
    "\n",
    "    \n",
    "    def find_all_loop(self):\n",
    "        for i in self.g.nodes():\n",
    "            i = i.item()\n",
    "            if self.color[i] == FindAllLoop.WHITE:\n",
    "                self.dfs(i)\n",
    "\n",
    "        for i in self.loops:\n",
    "            print(i)\n",
    "        return self.loops\n",
    "\n"
   ]
  },
  {
   "cell_type": "code",
   "execution_count": 36,
   "metadata": {},
   "outputs": [
    {
     "name": "stdout",
     "output_type": "stream",
     "text": [
      "[0, 1, 2, 0]\n",
      "[0, 3, 4, 0]\n"
     ]
    }
   ],
   "source": [
    "res = FindAllLoop(g).run()"
   ]
  }
 ],
 "metadata": {
  "kernelspec": {
   "display_name": "Python 3.8.13 ('torch')",
   "language": "python",
   "name": "python3"
  },
  "language_info": {
   "codemirror_mode": {
    "name": "ipython",
    "version": 3
   },
   "file_extension": ".py",
   "mimetype": "text/x-python",
   "name": "python",
   "nbconvert_exporter": "python",
   "pygments_lexer": "ipython3",
   "version": "3.6.13"
  },
  "orig_nbformat": 4,
  "vscode": {
   "interpreter": {
    "hash": "3854296d431348fac4977c9b40bb03107b32acdd69d3046dab9abadc62791061"
   }
  }
 },
 "nbformat": 4,
 "nbformat_minor": 2
}
