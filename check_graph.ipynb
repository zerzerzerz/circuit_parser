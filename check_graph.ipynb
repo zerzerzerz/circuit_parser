{
 "cells": [
  {
   "cell_type": "code",
   "execution_count": 13,
   "metadata": {},
   "outputs": [],
   "source": [
    "import torch\n",
    "import dgl\n",
    "from utils import utils"
   ]
  },
  {
   "cell_type": "code",
   "execution_count": 14,
   "metadata": {},
   "outputs": [],
   "source": [
    "platform = 'nangate'\n",
    "design = 'gcd'"
   ]
  },
  {
   "cell_type": "code",
   "execution_count": 15,
   "metadata": {},
   "outputs": [
    {
     "data": {
      "text/plain": [
       "Graph(num_nodes={'node': 1309},\n",
       "      num_edges={('node', 'cell_out', 'node'): 882, ('node', 'net_in', 'node'): 830, ('node', 'net_out', 'node'): 830},\n",
       "      metagraph=[('node', 'node', 'cell_out'), ('node', 'node', 'net_in'), ('node', 'node', 'net_out')])"
      ]
     },
     "execution_count": 15,
     "metadata": {},
     "output_type": "execute_result"
    }
   ],
   "source": [
    "g = dgl.load_graphs('res/graph.bin')[0][0]\n",
    "g"
   ]
  },
  {
   "cell_type": "code",
   "execution_count": 16,
   "metadata": {},
   "outputs": [
    {
     "data": {
      "text/plain": [
       "1309"
      ]
     },
     "execution_count": 16,
     "metadata": {},
     "output_type": "execute_result"
    }
   ],
   "source": [
    "index2pin = utils.load_json('res/index2pin.json')\n",
    "index2pin = {int(k):v for k,v in index2pin.items()}\n",
    "len(index2pin)"
   ]
  },
  {
   "cell_type": "code",
   "execution_count": 17,
   "metadata": {},
   "outputs": [],
   "source": [
    "n_src, n_dst = g.edges(etype='net_out')\n",
    "c_src, c_dst = g.edges(etype='cell_out')\n",
    "g = dgl.graph((\n",
    "    torch.cat([n_src, c_src]),\n",
    "    torch.cat([n_dst, c_dst]),\n",
    "))"
   ]
  },
  {
   "cell_type": "code",
   "execution_count": 18,
   "metadata": {},
   "outputs": [
    {
     "ename": "DGLError",
     "evalue": "[19:52:29] C:\\Users\\Administrator\\dgl-0.5\\src\\array\\cpu\\./traversal.h:222: Error in topological traversal: loop detected in the given graph.",
     "output_type": "error",
     "traceback": [
      "\u001b[1;31m---------------------------------------------------------------------------\u001b[0m",
      "\u001b[1;31mDGLError\u001b[0m                                  Traceback (most recent call last)",
      "\u001b[1;32me:\\Desktop\\my_code\\verilog_parser\\check_graph.ipynb Cell 6\u001b[0m in \u001b[0;36m<cell line: 1>\u001b[1;34m()\u001b[0m\n\u001b[1;32m----> <a href='vscode-notebook-cell:/e%3A/Desktop/my_code/verilog_parser/check_graph.ipynb#W5sZmlsZQ%3D%3D?line=0'>1</a>\u001b[0m topo \u001b[39m=\u001b[39m dgl\u001b[39m.\u001b[39;49mtopological_nodes_generator(g)\n\u001b[0;32m      <a href='vscode-notebook-cell:/e%3A/Desktop/my_code/verilog_parser/check_graph.ipynb#W5sZmlsZQ%3D%3D?line=1'>2</a>\u001b[0m \u001b[39mlen\u001b[39m(topo)\n",
      "File \u001b[1;32me:\\miniconda3\\envs\\torch\\lib\\site-packages\\dgl\\traversal.py:136\u001b[0m, in \u001b[0;36mtopological_nodes_generator\u001b[1;34m(graph, reverse)\u001b[0m\n\u001b[0;32m    134\u001b[0m \u001b[39m# Workaround before support for GPU graph\u001b[39;00m\n\u001b[0;32m    135\u001b[0m gidx \u001b[39m=\u001b[39m graph\u001b[39m.\u001b[39m_graph\u001b[39m.\u001b[39mcopy_to(utils\u001b[39m.\u001b[39mto_dgl_context(F\u001b[39m.\u001b[39mcpu()))\n\u001b[1;32m--> 136\u001b[0m ret \u001b[39m=\u001b[39m _CAPI_DGLTopologicalNodes_v2(gidx, reverse)\n\u001b[0;32m    137\u001b[0m all_nodes \u001b[39m=\u001b[39m utils\u001b[39m.\u001b[39mtoindex(ret(\u001b[39m0\u001b[39m), dtype\u001b[39m=\u001b[39mgraph\u001b[39m.\u001b[39m_idtype_str)\u001b[39m.\u001b[39mtousertensor()\n\u001b[0;32m    138\u001b[0m \u001b[39m# TODO(minjie): how to support directly creating python list\u001b[39;00m\n",
      "File \u001b[1;32me:\\miniconda3\\envs\\torch\\lib\\site-packages\\dgl\\_ffi\\_ctypes\\function.py:188\u001b[0m, in \u001b[0;36mFunctionBase.__call__\u001b[1;34m(self, *args)\u001b[0m\n\u001b[0;32m    186\u001b[0m ret_val \u001b[39m=\u001b[39m DGLValue()\n\u001b[0;32m    187\u001b[0m ret_tcode \u001b[39m=\u001b[39m ctypes\u001b[39m.\u001b[39mc_int()\n\u001b[1;32m--> 188\u001b[0m check_call(_LIB\u001b[39m.\u001b[39;49mDGLFuncCall(\n\u001b[0;32m    189\u001b[0m     \u001b[39mself\u001b[39;49m\u001b[39m.\u001b[39;49mhandle, values, tcodes, ctypes\u001b[39m.\u001b[39;49mc_int(num_args),\n\u001b[0;32m    190\u001b[0m     ctypes\u001b[39m.\u001b[39;49mbyref(ret_val), ctypes\u001b[39m.\u001b[39;49mbyref(ret_tcode)))\n\u001b[0;32m    191\u001b[0m _ \u001b[39m=\u001b[39m temp_args\n\u001b[0;32m    192\u001b[0m _ \u001b[39m=\u001b[39m args\n",
      "File \u001b[1;32me:\\miniconda3\\envs\\torch\\lib\\site-packages\\dgl\\_ffi\\base.py:65\u001b[0m, in \u001b[0;36mcheck_call\u001b[1;34m(ret)\u001b[0m\n\u001b[0;32m     54\u001b[0m \u001b[39m\"\"\"Check the return value of C API call\u001b[39;00m\n\u001b[0;32m     55\u001b[0m \n\u001b[0;32m     56\u001b[0m \u001b[39mThis function will raise exception when error occurs.\u001b[39;00m\n\u001b[1;32m   (...)\u001b[0m\n\u001b[0;32m     62\u001b[0m \u001b[39m    return value from API calls\u001b[39;00m\n\u001b[0;32m     63\u001b[0m \u001b[39m\"\"\"\u001b[39;00m\n\u001b[0;32m     64\u001b[0m \u001b[39mif\u001b[39;00m ret \u001b[39m!=\u001b[39m \u001b[39m0\u001b[39m:\n\u001b[1;32m---> 65\u001b[0m     \u001b[39mraise\u001b[39;00m DGLError(py_str(_LIB\u001b[39m.\u001b[39mDGLGetLastError()))\n",
      "\u001b[1;31mDGLError\u001b[0m: [19:52:29] C:\\Users\\Administrator\\dgl-0.5\\src\\array\\cpu\\./traversal.h:222: Error in topological traversal: loop detected in the given graph."
     ]
    }
   ],
   "source": [
    "topo = dgl.topological_nodes_generator(g)\n",
    "len(topo)"
   ]
  },
  {
   "cell_type": "code",
   "execution_count": null,
   "metadata": {},
   "outputs": [],
   "source": [
    "topo_new = []\n",
    "for level in topo:\n",
    "    level_new = []\n",
    "    for pin_index in level:\n",
    "        pin = index2pin[pin_index.item()]\n",
    "        level_new.append(pin)\n",
    "    topo_new.append(level_new)\n",
    "len(topo_new)"
   ]
  },
  {
   "cell_type": "code",
   "execution_count": null,
   "metadata": {},
   "outputs": [],
   "source": [
    "topo_new[0]"
   ]
  },
  {
   "cell_type": "code",
   "execution_count": null,
   "metadata": {},
   "outputs": [],
   "source": [
    "topo_new[-2]"
   ]
  },
  {
   "cell_type": "code",
   "execution_count": null,
   "metadata": {},
   "outputs": [],
   "source": [
    "topo_new[-1]"
   ]
  }
 ],
 "metadata": {
  "kernelspec": {
   "display_name": "Python 3.8.13 ('torch')",
   "language": "python",
   "name": "python3"
  },
  "language_info": {
   "codemirror_mode": {
    "name": "ipython",
    "version": 3
   },
   "file_extension": ".py",
   "mimetype": "text/x-python",
   "name": "python",
   "nbconvert_exporter": "python",
   "pygments_lexer": "ipython3",
   "version": "3.8.13"
  },
  "orig_nbformat": 4,
  "vscode": {
   "interpreter": {
    "hash": "3854296d431348fac4977c9b40bb03107b32acdd69d3046dab9abadc62791061"
   }
  }
 },
 "nbformat": 4,
 "nbformat_minor": 2
}
