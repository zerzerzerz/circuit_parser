{
 "cells": [
  {
   "cell_type": "code",
   "execution_count": 12,
   "metadata": {},
   "outputs": [],
   "source": [
    "import torch\n",
    "import dgl\n",
    "from utils import utils"
   ]
  },
  {
   "cell_type": "code",
   "execution_count": 13,
   "metadata": {},
   "outputs": [],
   "source": [
    "platform = 'nangate'\n",
    "design = 'gcd'"
   ]
  },
  {
   "cell_type": "code",
   "execution_count": 14,
   "metadata": {},
   "outputs": [
    {
     "data": {
      "text/plain": [
       "Graph(num_nodes={'node': 1309},\n",
       "      num_edges={('node', 'cell_out', 'node'): 812, ('node', 'net_in', 'node'): 780, ('node', 'net_out', 'node'): 780},\n",
       "      metagraph=[('node', 'node', 'cell_out'), ('node', 'node', 'net_in'), ('node', 'node', 'net_out')])"
      ]
     },
     "execution_count": 14,
     "metadata": {},
     "output_type": "execute_result"
    }
   ],
   "source": [
    "g = dgl.load_graphs('res\\graph.bin')[0][0]\n",
    "g"
   ]
  },
  {
   "cell_type": "code",
   "execution_count": 15,
   "metadata": {},
   "outputs": [
    {
     "data": {
      "text/plain": [
       "1309"
      ]
     },
     "execution_count": 15,
     "metadata": {},
     "output_type": "execute_result"
    }
   ],
   "source": [
    "index2pin = utils.load_json('res\\index2pin.json')\n",
    "index2pin = {int(k):v for k,v in index2pin.items()}\n",
    "len(index2pin)"
   ]
  },
  {
   "cell_type": "code",
   "execution_count": 16,
   "metadata": {},
   "outputs": [],
   "source": [
    "n_src, n_dst = g.edges(etype='net_out')\n",
    "c_src, c_dst = g.edges(etype='cell_out')\n",
    "g = dgl.graph((\n",
    "    torch.cat([n_src, c_src]),\n",
    "    torch.cat([n_dst, c_dst]),\n",
    "))"
   ]
  },
  {
   "cell_type": "code",
   "execution_count": 17,
   "metadata": {},
   "outputs": [
    {
     "data": {
      "text/plain": [
       "46"
      ]
     },
     "execution_count": 17,
     "metadata": {},
     "output_type": "execute_result"
    }
   ],
   "source": [
    "topo = dgl.topological_nodes_generator(g)\n",
    "len(topo)"
   ]
  },
  {
   "cell_type": "code",
   "execution_count": 18,
   "metadata": {},
   "outputs": [
    {
     "data": {
      "text/plain": [
       "46"
      ]
     },
     "execution_count": 18,
     "metadata": {},
     "output_type": "execute_result"
    }
   ],
   "source": [
    "topo_new = []\n",
    "for level in topo:\n",
    "    level_new = []\n",
    "    for pin_index in level:\n",
    "        pin = index2pin[pin_index.item()]\n",
    "        level_new.append(pin)\n",
    "    topo_new.append(level_new)\n",
    "len(topo_new)"
   ]
  },
  {
   "cell_type": "code",
   "execution_count": 19,
   "metadata": {},
   "outputs": [
    {
     "data": {
      "text/plain": [
       "['clk',\n",
       " 'req_val',\n",
       " 'reset',\n",
       " 'resp_rdy',\n",
       " 'req_msg[0]',\n",
       " 'req_msg[1]',\n",
       " 'req_msg[2]',\n",
       " 'req_msg[3]',\n",
       " 'req_msg[4]',\n",
       " 'req_msg[5]',\n",
       " 'req_msg[6]',\n",
       " 'req_msg[7]',\n",
       " 'req_msg[8]',\n",
       " 'req_msg[9]',\n",
       " 'req_msg[10]',\n",
       " 'req_msg[11]',\n",
       " 'req_msg[12]',\n",
       " 'req_msg[13]',\n",
       " 'req_msg[14]',\n",
       " 'req_msg[15]',\n",
       " 'req_msg[16]',\n",
       " 'req_msg[17]',\n",
       " 'req_msg[18]',\n",
       " 'req_msg[19]',\n",
       " 'req_msg[20]',\n",
       " 'req_msg[21]',\n",
       " 'req_msg[22]',\n",
       " 'req_msg[23]',\n",
       " 'req_msg[24]',\n",
       " 'req_msg[25]',\n",
       " 'req_msg[26]',\n",
       " 'req_msg[27]',\n",
       " 'req_msg[28]',\n",
       " 'req_msg[29]',\n",
       " 'req_msg[30]',\n",
       " 'req_msg[31]',\n",
       " 'req_rdy',\n",
       " 'resp_val',\n",
       " 'resp_msg[0]',\n",
       " 'resp_msg[1]',\n",
       " 'resp_msg[2]',\n",
       " 'resp_msg[3]',\n",
       " 'resp_msg[4]',\n",
       " 'resp_msg[5]',\n",
       " 'resp_msg[6]',\n",
       " 'resp_msg[7]',\n",
       " 'resp_msg[8]',\n",
       " 'resp_msg[9]',\n",
       " 'resp_msg[10]',\n",
       " 'resp_msg[11]',\n",
       " 'resp_msg[12]',\n",
       " 'resp_msg[13]',\n",
       " 'resp_msg[14]',\n",
       " 'resp_msg[15]',\n",
       " 'input1@A',\n",
       " 'input2@A',\n",
       " 'input3@A',\n",
       " 'input4@A',\n",
       " 'input5@A',\n",
       " 'input6@A',\n",
       " 'input7@A',\n",
       " 'input8@A',\n",
       " 'input9@A',\n",
       " 'input10@A',\n",
       " 'input11@A',\n",
       " 'input12@A',\n",
       " 'input13@A',\n",
       " 'input14@A',\n",
       " 'input15@A',\n",
       " 'input16@A',\n",
       " 'input17@A',\n",
       " 'input18@A',\n",
       " 'input19@A',\n",
       " 'input20@A',\n",
       " 'input21@A',\n",
       " 'input22@A',\n",
       " 'input23@A',\n",
       " 'input24@A',\n",
       " 'input25@A',\n",
       " 'input26@A',\n",
       " 'input27@A',\n",
       " 'input28@A',\n",
       " 'input29@A',\n",
       " 'input30@A',\n",
       " 'input31@A',\n",
       " 'input32@A']"
      ]
     },
     "execution_count": 19,
     "metadata": {},
     "output_type": "execute_result"
    }
   ],
   "source": [
    "topo_new[0]"
   ]
  },
  {
   "cell_type": "code",
   "execution_count": 20,
   "metadata": {},
   "outputs": [
    {
     "data": {
      "text/plain": [
       "['_671_@ZN']"
      ]
     },
     "execution_count": 20,
     "metadata": {},
     "output_type": "execute_result"
    }
   ],
   "source": [
    "topo_new[-2]"
   ]
  },
  {
   "cell_type": "code",
   "execution_count": 21,
   "metadata": {},
   "outputs": [
    {
     "data": {
      "text/plain": [
       "['_706_@D']"
      ]
     },
     "execution_count": 21,
     "metadata": {},
     "output_type": "execute_result"
    }
   ],
   "source": [
    "topo_new[-1]"
   ]
  }
 ],
 "metadata": {
  "kernelspec": {
   "display_name": "Python 3.8.13 ('torch')",
   "language": "python",
   "name": "python3"
  },
  "language_info": {
   "codemirror_mode": {
    "name": "ipython",
    "version": 3
   },
   "file_extension": ".py",
   "mimetype": "text/x-python",
   "name": "python",
   "nbconvert_exporter": "python",
   "pygments_lexer": "ipython3",
   "version": "3.8.13"
  },
  "orig_nbformat": 4,
  "vscode": {
   "interpreter": {
    "hash": "3854296d431348fac4977c9b40bb03107b32acdd69d3046dab9abadc62791061"
   }
  }
 },
 "nbformat": 4,
 "nbformat_minor": 2
}
