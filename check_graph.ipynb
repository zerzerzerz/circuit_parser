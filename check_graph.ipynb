{
 "cells": [
  {
   "cell_type": "code",
   "execution_count": null,
   "metadata": {},
   "outputs": [],
   "source": [
    "import torch\n",
    "import dgl\n",
    "from utils import utils"
   ]
  },
  {
   "cell_type": "code",
   "execution_count": null,
   "metadata": {},
   "outputs": [],
   "source": [
    "platform = 'nangate'\n",
    "design = 'gcd'"
   ]
  },
  {
   "cell_type": "code",
   "execution_count": null,
   "metadata": {},
   "outputs": [],
   "source": [
    "g = dgl.load_graphs('res/graph.bin')[0][0]\n",
    "g"
   ]
  },
  {
   "cell_type": "code",
   "execution_count": null,
   "metadata": {},
   "outputs": [],
   "source": [
    "index2pin = utils.load_json('res/index2pin.json')\n",
    "index2pin = {int(k):v for k,v in index2pin.items()}\n",
    "len(index2pin)"
   ]
  },
  {
   "cell_type": "code",
   "execution_count": null,
   "metadata": {},
   "outputs": [],
   "source": [
    "n_src, n_dst = g.edges(etype='net_out')\n",
    "c_src, c_dst = g.edges(etype='cell_out')\n",
    "g = dgl.graph((\n",
    "    torch.cat([n_src, c_src]),\n",
    "    torch.cat([n_dst, c_dst]),\n",
    "))"
   ]
  },
  {
   "cell_type": "code",
   "execution_count": null,
   "metadata": {},
   "outputs": [],
   "source": [
    "out_degree_zero = list(map(lambda index: index2pin[index],torch.where(g.out_degrees(g.nodes()) == 0)[0].tolist()))"
   ]
  },
  {
   "cell_type": "code",
   "execution_count": null,
   "metadata": {},
   "outputs": [],
   "source": [
    "topo = dgl.topological_nodes_generator(g)\n",
    "len(topo)"
   ]
  },
  {
   "cell_type": "code",
   "execution_count": null,
   "metadata": {},
   "outputs": [],
   "source": [
    "topo_new = []\n",
    "for level in topo:\n",
    "    level_new = []\n",
    "    for pin_index in level:\n",
    "        pin = index2pin[pin_index.item()]\n",
    "        level_new.append(pin)\n",
    "    topo_new.append(level_new)\n",
    "len(topo_new)"
   ]
  },
  {
   "cell_type": "code",
   "execution_count": null,
   "metadata": {},
   "outputs": [],
   "source": [
    "topo_new[0]"
   ]
  },
  {
   "cell_type": "code",
   "execution_count": null,
   "metadata": {},
   "outputs": [],
   "source": [
    "topo_new[-2]"
   ]
  },
  {
   "cell_type": "code",
   "execution_count": null,
   "metadata": {},
   "outputs": [],
   "source": [
    "topo_new[-1]"
   ]
  }
 ],
 "metadata": {
  "kernelspec": {
   "display_name": "Python 3.8.13 ('torch')",
   "language": "python",
   "name": "python3"
  },
  "language_info": {
   "codemirror_mode": {
    "name": "ipython",
    "version": 3
   },
   "file_extension": ".py",
   "mimetype": "text/x-python",
   "name": "python",
   "nbconvert_exporter": "python",
   "pygments_lexer": "ipython3",
   "version": "3.8.13"
  },
  "orig_nbformat": 4,
  "vscode": {
   "interpreter": {
    "hash": "3854296d431348fac4977c9b40bb03107b32acdd69d3046dab9abadc62791061"
   }
  }
 },
 "nbformat": 4,
 "nbformat_minor": 2
}
