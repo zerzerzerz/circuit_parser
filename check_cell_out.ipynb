{
 "cells": [
  {
   "cell_type": "code",
   "execution_count": 13,
   "metadata": {},
   "outputs": [],
   "source": [
    "import utils.utils as U"
   ]
  },
  {
   "attachments": {},
   "cell_type": "markdown",
   "metadata": {},
   "source": [
    "- `cell_out1` is extracted from Verilog file\n",
    "- `cell_out2` is extracted from `.sdf` file `cell_delay.json`"
   ]
  },
  {
   "cell_type": "code",
   "execution_count": 14,
   "metadata": {},
   "outputs": [],
   "source": [
    "cell_out1 = set(U.load_json('res/cell_out.json'))\n",
    "cell_out2 = set(list(U.load_json('res/cell_delay.json').keys()))"
   ]
  },
  {
   "cell_type": "code",
   "execution_count": 15,
   "metadata": {},
   "outputs": [
    {
     "data": {
      "text/plain": [
       "{'_672_@D>>>_672_@Q',\n",
       " '_672_@D>>>_672_@QN',\n",
       " '_673_@D>>>_673_@Q',\n",
       " '_673_@D>>>_673_@QN',\n",
       " '_674_@D>>>_674_@Q',\n",
       " '_674_@D>>>_674_@QN',\n",
       " '_675_@D>>>_675_@Q',\n",
       " '_675_@D>>>_675_@QN',\n",
       " '_676_@D>>>_676_@Q',\n",
       " '_676_@D>>>_676_@QN',\n",
       " '_677_@D>>>_677_@Q',\n",
       " '_677_@D>>>_677_@QN',\n",
       " '_678_@D>>>_678_@Q',\n",
       " '_678_@D>>>_678_@QN',\n",
       " '_679_@D>>>_679_@Q',\n",
       " '_679_@D>>>_679_@QN',\n",
       " '_680_@D>>>_680_@Q',\n",
       " '_680_@D>>>_680_@QN',\n",
       " '_681_@D>>>_681_@Q',\n",
       " '_681_@D>>>_681_@QN',\n",
       " '_682_@D>>>_682_@Q',\n",
       " '_682_@D>>>_682_@QN',\n",
       " '_683_@D>>>_683_@Q',\n",
       " '_683_@D>>>_683_@QN',\n",
       " '_684_@D>>>_684_@Q',\n",
       " '_684_@D>>>_684_@QN',\n",
       " '_685_@D>>>_685_@Q',\n",
       " '_685_@D>>>_685_@QN',\n",
       " '_686_@D>>>_686_@Q',\n",
       " '_686_@D>>>_686_@QN',\n",
       " '_687_@D>>>_687_@Q',\n",
       " '_687_@D>>>_687_@QN',\n",
       " '_688_@D>>>_688_@Q',\n",
       " '_688_@D>>>_688_@QN',\n",
       " '_689_@D>>>_689_@Q',\n",
       " '_689_@D>>>_689_@QN',\n",
       " '_690_@D>>>_690_@Q',\n",
       " '_690_@D>>>_690_@QN',\n",
       " '_691_@D>>>_691_@Q',\n",
       " '_691_@D>>>_691_@QN',\n",
       " '_692_@D>>>_692_@Q',\n",
       " '_692_@D>>>_692_@QN',\n",
       " '_693_@D>>>_693_@Q',\n",
       " '_693_@D>>>_693_@QN',\n",
       " '_694_@D>>>_694_@Q',\n",
       " '_694_@D>>>_694_@QN',\n",
       " '_695_@D>>>_695_@Q',\n",
       " '_695_@D>>>_695_@QN',\n",
       " '_696_@D>>>_696_@Q',\n",
       " '_696_@D>>>_696_@QN',\n",
       " '_697_@D>>>_697_@Q',\n",
       " '_697_@D>>>_697_@QN',\n",
       " '_698_@D>>>_698_@Q',\n",
       " '_698_@D>>>_698_@QN',\n",
       " '_699_@D>>>_699_@Q',\n",
       " '_699_@D>>>_699_@QN',\n",
       " '_700_@D>>>_700_@Q',\n",
       " '_700_@D>>>_700_@QN',\n",
       " '_701_@D>>>_701_@Q',\n",
       " '_701_@D>>>_701_@QN',\n",
       " '_702_@D>>>_702_@Q',\n",
       " '_702_@D>>>_702_@QN',\n",
       " '_703_@D>>>_703_@Q',\n",
       " '_703_@D>>>_703_@QN',\n",
       " '_704_@D>>>_704_@Q',\n",
       " '_704_@D>>>_704_@QN',\n",
       " '_705_@D>>>_705_@Q',\n",
       " '_705_@D>>>_705_@QN',\n",
       " '_706_@D>>>_706_@Q',\n",
       " '_706_@D>>>_706_@QN'}"
      ]
     },
     "execution_count": 15,
     "metadata": {},
     "output_type": "execute_result"
    }
   ],
   "source": [
    "cell_out1.difference(cell_out2)"
   ]
  },
  {
   "cell_type": "code",
   "execution_count": 16,
   "metadata": {},
   "outputs": [
    {
     "data": {
      "text/plain": [
       "set()"
      ]
     },
     "execution_count": 16,
     "metadata": {},
     "output_type": "execute_result"
    }
   ],
   "source": [
    "cell_out2.difference(cell_out1)"
   ]
  }
 ],
 "metadata": {
  "kernelspec": {
   "display_name": "Python 3.8.13 ('torch')",
   "language": "python",
   "name": "python3"
  },
  "language_info": {
   "codemirror_mode": {
    "name": "ipython",
    "version": 3
   },
   "file_extension": ".py",
   "mimetype": "text/x-python",
   "name": "python",
   "nbconvert_exporter": "python",
   "pygments_lexer": "ipython3",
   "version": "3.8.13"
  },
  "orig_nbformat": 4,
  "vscode": {
   "interpreter": {
    "hash": "3854296d431348fac4977c9b40bb03107b32acdd69d3046dab9abadc62791061"
   }
  }
 },
 "nbformat": 4,
 "nbformat_minor": 2
}
